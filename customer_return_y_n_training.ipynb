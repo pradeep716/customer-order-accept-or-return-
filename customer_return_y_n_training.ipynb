{
 "cells": [
  {
   "cell_type": "code",
   "execution_count": 1,
   "metadata": {},
   "outputs": [],
   "source": [
    "import numpy as np\n",
    "import pandas as pd\n",
    "import re\n",
    "from nltk.tokenize import word_tokenize\n",
    "from nltk.tokenize import sent_tokenize,word_tokenize\n",
    "from nltk.corpus import stopwords\n",
    "from nltk.stem import WordNetLemmatizer\n",
    "from sklearn.feature_extraction.text import TfidfVectorizer\n",
    "from sklearn.model_selection import train_test_split,cross_val_score,GridSearchCV,RandomizedSearchCV\n",
    "from sklearn.metrics import classification_report,confusion_matrix\n",
    "from sklearn.ensemble import RandomForestClassifier\n",
    "from sklearn.linear_model import LogisticRegression\n",
    "from sklearn.neighbors import KNeighborsClassifier\n",
    "from sklearn.svm import SVC\n",
    "from imblearn.over_sampling import SMOTE,RandomOverSampler\n",
    "from xgboost import XGBClassifier\n",
    "from sklearn.ensemble import AdaBoostClassifier\n",
    "import dtale"
   ]
  },
  {
   "cell_type": "code",
   "execution_count": 2,
   "metadata": {},
   "outputs": [
    {
     "name": "stderr",
     "output_type": "stream",
     "text": [
      "2021-07-06 08:40:42,466 - INFO     - NumExpr defaulting to 8 threads.\n"
     ]
    },
    {
     "data": {
      "text/html": [
       "\n",
       "        <iframe\n",
       "            width=\"100%\"\n",
       "            height=\"475\"\n",
       "            src=\"http://Pradeep-Sharma:40000/dtale/iframe/1\"\n",
       "            frameborder=\"0\"\n",
       "            allowfullscreen\n",
       "        ></iframe>\n",
       "        "
      ],
      "text/plain": [
       "<IPython.lib.display.IFrame at 0x2441e8dd580>"
      ]
     },
     "metadata": {},
     "output_type": "display_data"
    },
    {
     "data": {
      "text/plain": []
     },
     "execution_count": 2,
     "metadata": {},
     "output_type": "execute_result"
    }
   ],
   "source": [
    "df=pd.read_csv(r'C:\\Users\\Pradeep Sharma\\OneDrive\\Desktop\\zycus assignement\\TrainingData_V1.csv')\n",
    "dtale.show(df)"
   ]
  },
  {
   "cell_type": "code",
   "execution_count": 3,
   "metadata": {},
   "outputs": [],
   "source": [
    "df['order_date']=pd.to_datetime(df['order_date'])\n",
    "df['delivery_date']=pd.to_datetime(df['delivery_date'])\n",
    "df['user_dob']=pd.to_datetime(df['user_dob'])\n",
    "df['user_reg_date']=pd.to_datetime(df['user_reg_date'])\n",
    "df['present_date']='2017-01-01'\n",
    "df['present_date']=pd.to_datetime(df['present_date'])\n",
    "df['age_of_user']=df['present_date']-df['user_dob']\n",
    "df['age_on_network']=df['present_date']-df['user_reg_date']\n",
    "df['age_of_user']=df['age_of_user'].dt.days\n",
    "df['age_on_network']=df['age_on_network'].dt.days\n",
    "df['age_of_user']=df['age_of_user']/365\n",
    "df['age_of_user']=df['age_of_user'].round(0)\n",
    "df['age_on_network']=df['age_on_network']"
   ]
  },
  {
   "cell_type": "code",
   "execution_count": 325,
   "metadata": {},
   "outputs": [],
   "source": [
    "df['days_user_taken_to_get_register']=((df['user_reg_date']-df['user_dob'])/365).dt.days\n",
    "df['user_month_of_birth']=df['user_dob'].dt.month\n",
    "df['order_of_month']=df['order_date'].dt.month"
   ]
  },
  {
   "cell_type": "code",
   "execution_count": 326,
   "metadata": {},
   "outputs": [
    {
     "data": {
      "text/plain": [
       "(79945, 20)"
      ]
     },
     "execution_count": 326,
     "metadata": {},
     "output_type": "execute_result"
    }
   ],
   "source": [
    "df.shape"
   ]
  },
  {
   "cell_type": "code",
   "execution_count": 327,
   "metadata": {},
   "outputs": [
    {
     "data": {
      "text/plain": [
       "Index(['order_item_id', 'order_date', 'delivery_date', 'item_id', 'item_size',\n",
       "       'item_color', 'brand_id', 'item_price', 'user_id', 'user_title',\n",
       "       'user_dob', 'user_state', 'user_reg_date', 'return', 'present_date',\n",
       "       'age_of_user', 'age_on_network', 'days_user_taken_to_get_register',\n",
       "       'user_month_of_birth', 'order_of_month'],\n",
       "      dtype='object')"
      ]
     },
     "execution_count": 327,
     "metadata": {},
     "output_type": "execute_result"
    }
   ],
   "source": [
    "df.columns"
   ]
  },
  {
   "cell_type": "code",
   "execution_count": 328,
   "metadata": {},
   "outputs": [
    {
     "data": {
      "text/plain": [
       "order_item_id                         0\n",
       "order_date                            0\n",
       "delivery_date                      7436\n",
       "item_id                               0\n",
       "item_size                             0\n",
       "item_color                            0\n",
       "brand_id                              0\n",
       "item_price                            0\n",
       "user_id                               0\n",
       "user_title                            0\n",
       "user_dob                           6989\n",
       "user_state                            0\n",
       "user_reg_date                         0\n",
       "return                                0\n",
       "present_date                          0\n",
       "age_of_user                        6989\n",
       "age_on_network                        0\n",
       "days_user_taken_to_get_register    6989\n",
       "user_month_of_birth                6989\n",
       "order_of_month                        0\n",
       "dtype: int64"
      ]
     },
     "execution_count": 328,
     "metadata": {},
     "output_type": "execute_result"
    }
   ],
   "source": [
    "df.isnull().sum()"
   ]
  },
  {
   "cell_type": "code",
   "execution_count": 329,
   "metadata": {},
   "outputs": [
    {
     "data": {
      "text/plain": [
       "Index(['order_item_id', 'order_date', 'delivery_date', 'item_id', 'item_size',\n",
       "       'item_color', 'brand_id', 'item_price', 'user_id', 'user_title',\n",
       "       'user_dob', 'user_state', 'user_reg_date', 'return', 'present_date',\n",
       "       'age_of_user', 'age_on_network', 'days_user_taken_to_get_register',\n",
       "       'user_month_of_birth', 'order_of_month'],\n",
       "      dtype='object')"
      ]
     },
     "execution_count": 329,
     "metadata": {},
     "output_type": "execute_result"
    }
   ],
   "source": [
    "df.columns"
   ]
  },
  {
   "cell_type": "code",
   "execution_count": 330,
   "metadata": {},
   "outputs": [
    {
     "data": {
      "text/plain": [
       "Index(['order_item_id', 'order_date', 'delivery_date', 'item_id', 'item_size',\n",
       "       'item_color', 'brand_id', 'item_price', 'user_id', 'user_title',\n",
       "       'user_dob', 'user_state', 'user_reg_date', 'return', 'present_date',\n",
       "       'age_of_user', 'age_on_network', 'days_user_taken_to_get_register',\n",
       "       'user_month_of_birth', 'order_of_month'],\n",
       "      dtype='object')"
      ]
     },
     "execution_count": 330,
     "metadata": {},
     "output_type": "execute_result"
    }
   ],
   "source": [
    "df.columns"
   ]
  },
  {
   "cell_type": "code",
   "execution_count": 331,
   "metadata": {},
   "outputs": [],
   "source": [
    "#df.drop('order_date_y',axis=1,inplace=True)\n",
    "#df.rename(columns={'order_date_x':'order_date'},inplace=True)"
   ]
  },
  {
   "cell_type": "code",
   "execution_count": 332,
   "metadata": {},
   "outputs": [],
   "source": [
    "df1=df[['item_id','order_date', 'delivery_date']]"
   ]
  },
  {
   "cell_type": "code",
   "execution_count": 333,
   "metadata": {},
   "outputs": [
    {
     "data": {
      "text/html": [
       "<div>\n",
       "<style scoped>\n",
       "    .dataframe tbody tr th:only-of-type {\n",
       "        vertical-align: middle;\n",
       "    }\n",
       "\n",
       "    .dataframe tbody tr th {\n",
       "        vertical-align: top;\n",
       "    }\n",
       "\n",
       "    .dataframe thead th {\n",
       "        text-align: right;\n",
       "    }\n",
       "</style>\n",
       "<table border=\"1\" class=\"dataframe\">\n",
       "  <thead>\n",
       "    <tr style=\"text-align: right;\">\n",
       "      <th></th>\n",
       "      <th>item_id</th>\n",
       "      <th>order_date</th>\n",
       "      <th>delivery_date</th>\n",
       "    </tr>\n",
       "  </thead>\n",
       "  <tbody>\n",
       "    <tr>\n",
       "      <th>0</th>\n",
       "      <td>643</td>\n",
       "      <td>2016-06-22</td>\n",
       "      <td>2016-06-27</td>\n",
       "    </tr>\n",
       "    <tr>\n",
       "      <th>1</th>\n",
       "      <td>195</td>\n",
       "      <td>2016-06-22</td>\n",
       "      <td>2016-06-27</td>\n",
       "    </tr>\n",
       "    <tr>\n",
       "      <th>2</th>\n",
       "      <td>25</td>\n",
       "      <td>2016-06-22</td>\n",
       "      <td>2016-05-07</td>\n",
       "    </tr>\n",
       "    <tr>\n",
       "      <th>3</th>\n",
       "      <td>173</td>\n",
       "      <td>2016-06-23</td>\n",
       "      <td>2016-06-26</td>\n",
       "    </tr>\n",
       "    <tr>\n",
       "      <th>4</th>\n",
       "      <td>394</td>\n",
       "      <td>2016-06-23</td>\n",
       "      <td>2016-06-26</td>\n",
       "    </tr>\n",
       "    <tr>\n",
       "      <th>...</th>\n",
       "      <td>...</td>\n",
       "      <td>...</td>\n",
       "      <td>...</td>\n",
       "    </tr>\n",
       "    <tr>\n",
       "      <th>79940</th>\n",
       "      <td>39</td>\n",
       "      <td>2016-11-09</td>\n",
       "      <td>2016-12-09</td>\n",
       "    </tr>\n",
       "    <tr>\n",
       "      <th>79941</th>\n",
       "      <td>1498</td>\n",
       "      <td>2016-11-09</td>\n",
       "      <td>NaT</td>\n",
       "    </tr>\n",
       "    <tr>\n",
       "      <th>79942</th>\n",
       "      <td>1806</td>\n",
       "      <td>2016-11-09</td>\n",
       "      <td>2016-12-09</td>\n",
       "    </tr>\n",
       "    <tr>\n",
       "      <th>79943</th>\n",
       "      <td>1530</td>\n",
       "      <td>2016-11-09</td>\n",
       "      <td>2016-12-09</td>\n",
       "    </tr>\n",
       "    <tr>\n",
       "      <th>79944</th>\n",
       "      <td>156</td>\n",
       "      <td>2016-11-09</td>\n",
       "      <td>2016-12-09</td>\n",
       "    </tr>\n",
       "  </tbody>\n",
       "</table>\n",
       "<p>79945 rows × 3 columns</p>\n",
       "</div>"
      ],
      "text/plain": [
       "       item_id order_date delivery_date\n",
       "0          643 2016-06-22    2016-06-27\n",
       "1          195 2016-06-22    2016-06-27\n",
       "2           25 2016-06-22    2016-05-07\n",
       "3          173 2016-06-23    2016-06-26\n",
       "4          394 2016-06-23    2016-06-26\n",
       "...        ...        ...           ...\n",
       "79940       39 2016-11-09    2016-12-09\n",
       "79941     1498 2016-11-09           NaT\n",
       "79942     1806 2016-11-09    2016-12-09\n",
       "79943     1530 2016-11-09    2016-12-09\n",
       "79944      156 2016-11-09    2016-12-09\n",
       "\n",
       "[79945 rows x 3 columns]"
      ]
     },
     "execution_count": 333,
     "metadata": {},
     "output_type": "execute_result"
    }
   ],
   "source": [
    "df1"
   ]
  },
  {
   "cell_type": "code",
   "execution_count": 334,
   "metadata": {},
   "outputs": [
    {
     "name": "stderr",
     "output_type": "stream",
     "text": [
      "<ipython-input-334-8dd21f8ad9a4>:1: SettingWithCopyWarning:\n",
      "\n",
      "\n",
      "A value is trying to be set on a copy of a slice from a DataFrame.\n",
      "Try using .loc[row_indexer,col_indexer] = value instead\n",
      "\n",
      "See the caveats in the documentation: https://pandas.pydata.org/pandas-docs/stable/user_guide/indexing.html#returning-a-view-versus-a-copy\n",
      "\n"
     ]
    }
   ],
   "source": [
    "df1['no_of_days_to_deliver']=df1['delivery_date']-df1['order_date']"
   ]
  },
  {
   "cell_type": "code",
   "execution_count": 335,
   "metadata": {},
   "outputs": [
    {
     "data": {
      "text/plain": [
       "item_id                     0\n",
       "order_date                  0\n",
       "delivery_date            7436\n",
       "no_of_days_to_deliver    7436\n",
       "dtype: int64"
      ]
     },
     "execution_count": 335,
     "metadata": {},
     "output_type": "execute_result"
    }
   ],
   "source": [
    "df1.isnull().sum()"
   ]
  },
  {
   "cell_type": "code",
   "execution_count": 336,
   "metadata": {},
   "outputs": [
    {
     "name": "stderr",
     "output_type": "stream",
     "text": [
      "<ipython-input-336-74b1f2dac229>:1: SettingWithCopyWarning:\n",
      "\n",
      "\n",
      "A value is trying to be set on a copy of a slice from a DataFrame.\n",
      "Try using .loc[row_indexer,col_indexer] = value instead\n",
      "\n",
      "See the caveats in the documentation: https://pandas.pydata.org/pandas-docs/stable/user_guide/indexing.html#returning-a-view-versus-a-copy\n",
      "\n"
     ]
    }
   ],
   "source": [
    "df1['no_of_days_to_deliver']=df1['no_of_days_to_deliver'].dt.days\n"
   ]
  },
  {
   "cell_type": "code",
   "execution_count": 337,
   "metadata": {},
   "outputs": [],
   "source": [
    "df2=df1[df1['no_of_days_to_deliver']>=0]"
   ]
  },
  {
   "cell_type": "code",
   "execution_count": 338,
   "metadata": {},
   "outputs": [
    {
     "data": {
      "text/html": [
       "<div>\n",
       "<style scoped>\n",
       "    .dataframe tbody tr th:only-of-type {\n",
       "        vertical-align: middle;\n",
       "    }\n",
       "\n",
       "    .dataframe tbody tr th {\n",
       "        vertical-align: top;\n",
       "    }\n",
       "\n",
       "    .dataframe thead th {\n",
       "        text-align: right;\n",
       "    }\n",
       "</style>\n",
       "<table border=\"1\" class=\"dataframe\">\n",
       "  <thead>\n",
       "    <tr style=\"text-align: right;\">\n",
       "      <th></th>\n",
       "      <th>item_id</th>\n",
       "      <th>order_date</th>\n",
       "      <th>delivery_date</th>\n",
       "      <th>no_of_days_to_deliver</th>\n",
       "    </tr>\n",
       "  </thead>\n",
       "  <tbody>\n",
       "    <tr>\n",
       "      <th>0</th>\n",
       "      <td>643</td>\n",
       "      <td>2016-06-22</td>\n",
       "      <td>2016-06-27</td>\n",
       "      <td>5.0</td>\n",
       "    </tr>\n",
       "    <tr>\n",
       "      <th>1</th>\n",
       "      <td>195</td>\n",
       "      <td>2016-06-22</td>\n",
       "      <td>2016-06-27</td>\n",
       "      <td>5.0</td>\n",
       "    </tr>\n",
       "    <tr>\n",
       "      <th>3</th>\n",
       "      <td>173</td>\n",
       "      <td>2016-06-23</td>\n",
       "      <td>2016-06-26</td>\n",
       "      <td>3.0</td>\n",
       "    </tr>\n",
       "    <tr>\n",
       "      <th>4</th>\n",
       "      <td>394</td>\n",
       "      <td>2016-06-23</td>\n",
       "      <td>2016-06-26</td>\n",
       "      <td>3.0</td>\n",
       "    </tr>\n",
       "    <tr>\n",
       "      <th>5</th>\n",
       "      <td>448</td>\n",
       "      <td>2016-06-23</td>\n",
       "      <td>2016-06-26</td>\n",
       "      <td>3.0</td>\n",
       "    </tr>\n",
       "    <tr>\n",
       "      <th>...</th>\n",
       "      <td>...</td>\n",
       "      <td>...</td>\n",
       "      <td>...</td>\n",
       "      <td>...</td>\n",
       "    </tr>\n",
       "    <tr>\n",
       "      <th>79939</th>\n",
       "      <td>1532</td>\n",
       "      <td>2016-11-09</td>\n",
       "      <td>2016-12-09</td>\n",
       "      <td>30.0</td>\n",
       "    </tr>\n",
       "    <tr>\n",
       "      <th>79940</th>\n",
       "      <td>39</td>\n",
       "      <td>2016-11-09</td>\n",
       "      <td>2016-12-09</td>\n",
       "      <td>30.0</td>\n",
       "    </tr>\n",
       "    <tr>\n",
       "      <th>79942</th>\n",
       "      <td>1806</td>\n",
       "      <td>2016-11-09</td>\n",
       "      <td>2016-12-09</td>\n",
       "      <td>30.0</td>\n",
       "    </tr>\n",
       "    <tr>\n",
       "      <th>79943</th>\n",
       "      <td>1530</td>\n",
       "      <td>2016-11-09</td>\n",
       "      <td>2016-12-09</td>\n",
       "      <td>30.0</td>\n",
       "    </tr>\n",
       "    <tr>\n",
       "      <th>79944</th>\n",
       "      <td>156</td>\n",
       "      <td>2016-11-09</td>\n",
       "      <td>2016-12-09</td>\n",
       "      <td>30.0</td>\n",
       "    </tr>\n",
       "  </tbody>\n",
       "</table>\n",
       "<p>55387 rows × 4 columns</p>\n",
       "</div>"
      ],
      "text/plain": [
       "       item_id order_date delivery_date  no_of_days_to_deliver\n",
       "0          643 2016-06-22    2016-06-27                    5.0\n",
       "1          195 2016-06-22    2016-06-27                    5.0\n",
       "3          173 2016-06-23    2016-06-26                    3.0\n",
       "4          394 2016-06-23    2016-06-26                    3.0\n",
       "5          448 2016-06-23    2016-06-26                    3.0\n",
       "...        ...        ...           ...                    ...\n",
       "79939     1532 2016-11-09    2016-12-09                   30.0\n",
       "79940       39 2016-11-09    2016-12-09                   30.0\n",
       "79942     1806 2016-11-09    2016-12-09                   30.0\n",
       "79943     1530 2016-11-09    2016-12-09                   30.0\n",
       "79944      156 2016-11-09    2016-12-09                   30.0\n",
       "\n",
       "[55387 rows x 4 columns]"
      ]
     },
     "execution_count": 338,
     "metadata": {},
     "output_type": "execute_result"
    }
   ],
   "source": [
    "df2"
   ]
  },
  {
   "cell_type": "code",
   "execution_count": 339,
   "metadata": {},
   "outputs": [],
   "source": [
    "dg=df2.groupby('item_id').agg(no_of_days_to_taken_to_deliver=('no_of_days_to_deliver','median')).reset_index()"
   ]
  },
  {
   "cell_type": "code",
   "execution_count": 340,
   "metadata": {},
   "outputs": [
    {
     "data": {
      "text/html": [
       "<div>\n",
       "<style scoped>\n",
       "    .dataframe tbody tr th:only-of-type {\n",
       "        vertical-align: middle;\n",
       "    }\n",
       "\n",
       "    .dataframe tbody tr th {\n",
       "        vertical-align: top;\n",
       "    }\n",
       "\n",
       "    .dataframe thead th {\n",
       "        text-align: right;\n",
       "    }\n",
       "</style>\n",
       "<table border=\"1\" class=\"dataframe\">\n",
       "  <thead>\n",
       "    <tr style=\"text-align: right;\">\n",
       "      <th></th>\n",
       "      <th>item_id</th>\n",
       "      <th>no_of_days_to_taken_to_deliver</th>\n",
       "    </tr>\n",
       "  </thead>\n",
       "  <tbody>\n",
       "    <tr>\n",
       "      <th>0</th>\n",
       "      <td>1</td>\n",
       "      <td>4.5</td>\n",
       "    </tr>\n",
       "    <tr>\n",
       "      <th>1</th>\n",
       "      <td>2</td>\n",
       "      <td>4.0</td>\n",
       "    </tr>\n",
       "    <tr>\n",
       "      <th>2</th>\n",
       "      <td>3</td>\n",
       "      <td>3.0</td>\n",
       "    </tr>\n",
       "    <tr>\n",
       "      <th>3</th>\n",
       "      <td>4</td>\n",
       "      <td>30.0</td>\n",
       "    </tr>\n",
       "    <tr>\n",
       "      <th>4</th>\n",
       "      <td>5</td>\n",
       "      <td>4.0</td>\n",
       "    </tr>\n",
       "    <tr>\n",
       "      <th>...</th>\n",
       "      <td>...</td>\n",
       "      <td>...</td>\n",
       "    </tr>\n",
       "    <tr>\n",
       "      <th>1801</th>\n",
       "      <td>2230</td>\n",
       "      <td>46.5</td>\n",
       "    </tr>\n",
       "    <tr>\n",
       "      <th>1802</th>\n",
       "      <td>2232</td>\n",
       "      <td>42.0</td>\n",
       "    </tr>\n",
       "    <tr>\n",
       "      <th>1803</th>\n",
       "      <td>2237</td>\n",
       "      <td>217.0</td>\n",
       "    </tr>\n",
       "    <tr>\n",
       "      <th>1804</th>\n",
       "      <td>2238</td>\n",
       "      <td>30.5</td>\n",
       "    </tr>\n",
       "    <tr>\n",
       "      <th>1805</th>\n",
       "      <td>2240</td>\n",
       "      <td>61.0</td>\n",
       "    </tr>\n",
       "  </tbody>\n",
       "</table>\n",
       "<p>1806 rows × 2 columns</p>\n",
       "</div>"
      ],
      "text/plain": [
       "      item_id  no_of_days_to_taken_to_deliver\n",
       "0           1                             4.5\n",
       "1           2                             4.0\n",
       "2           3                             3.0\n",
       "3           4                            30.0\n",
       "4           5                             4.0\n",
       "...       ...                             ...\n",
       "1801     2230                            46.5\n",
       "1802     2232                            42.0\n",
       "1803     2237                           217.0\n",
       "1804     2238                            30.5\n",
       "1805     2240                            61.0\n",
       "\n",
       "[1806 rows x 2 columns]"
      ]
     },
     "execution_count": 340,
     "metadata": {},
     "output_type": "execute_result"
    }
   ],
   "source": [
    "dg"
   ]
  },
  {
   "cell_type": "code",
   "execution_count": 341,
   "metadata": {},
   "outputs": [],
   "source": [
    "df_new=pd.merge(df,dg,on='item_id',how='left')"
   ]
  },
  {
   "cell_type": "code",
   "execution_count": 342,
   "metadata": {},
   "outputs": [
    {
     "data": {
      "text/html": [
       "<div>\n",
       "<style scoped>\n",
       "    .dataframe tbody tr th:only-of-type {\n",
       "        vertical-align: middle;\n",
       "    }\n",
       "\n",
       "    .dataframe tbody tr th {\n",
       "        vertical-align: top;\n",
       "    }\n",
       "\n",
       "    .dataframe thead th {\n",
       "        text-align: right;\n",
       "    }\n",
       "</style>\n",
       "<table border=\"1\" class=\"dataframe\">\n",
       "  <thead>\n",
       "    <tr style=\"text-align: right;\">\n",
       "      <th></th>\n",
       "      <th>order_item_id</th>\n",
       "      <th>order_date</th>\n",
       "      <th>delivery_date</th>\n",
       "      <th>item_id</th>\n",
       "      <th>item_size</th>\n",
       "      <th>item_color</th>\n",
       "      <th>brand_id</th>\n",
       "      <th>item_price</th>\n",
       "      <th>user_id</th>\n",
       "      <th>user_title</th>\n",
       "      <th>...</th>\n",
       "      <th>user_state</th>\n",
       "      <th>user_reg_date</th>\n",
       "      <th>return</th>\n",
       "      <th>present_date</th>\n",
       "      <th>age_of_user</th>\n",
       "      <th>age_on_network</th>\n",
       "      <th>days_user_taken_to_get_register</th>\n",
       "      <th>user_month_of_birth</th>\n",
       "      <th>order_of_month</th>\n",
       "      <th>no_of_days_to_taken_to_deliver</th>\n",
       "    </tr>\n",
       "  </thead>\n",
       "  <tbody>\n",
       "    <tr>\n",
       "      <th>0</th>\n",
       "      <td>1</td>\n",
       "      <td>2016-06-22</td>\n",
       "      <td>2016-06-27</td>\n",
       "      <td>643</td>\n",
       "      <td>38</td>\n",
       "      <td>navy</td>\n",
       "      <td>30</td>\n",
       "      <td>49.9</td>\n",
       "      <td>30822</td>\n",
       "      <td>Mrs</td>\n",
       "      <td>...</td>\n",
       "      <td>1013</td>\n",
       "      <td>2016-06-23</td>\n",
       "      <td>0</td>\n",
       "      <td>2017-01-01</td>\n",
       "      <td>48.0</td>\n",
       "      <td>192</td>\n",
       "      <td>47.0</td>\n",
       "      <td>4.0</td>\n",
       "      <td>6</td>\n",
       "      <td>13.0</td>\n",
       "    </tr>\n",
       "    <tr>\n",
       "      <th>1</th>\n",
       "      <td>10</td>\n",
       "      <td>2016-06-22</td>\n",
       "      <td>2016-06-27</td>\n",
       "      <td>195</td>\n",
       "      <td>xxl</td>\n",
       "      <td>grey</td>\n",
       "      <td>46</td>\n",
       "      <td>19.9</td>\n",
       "      <td>30823</td>\n",
       "      <td>Mrs</td>\n",
       "      <td>...</td>\n",
       "      <td>1001</td>\n",
       "      <td>2015-03-15</td>\n",
       "      <td>1</td>\n",
       "      <td>2017-01-01</td>\n",
       "      <td>47.0</td>\n",
       "      <td>658</td>\n",
       "      <td>44.0</td>\n",
       "      <td>4.0</td>\n",
       "      <td>6</td>\n",
       "      <td>3.0</td>\n",
       "    </tr>\n",
       "    <tr>\n",
       "      <th>2</th>\n",
       "      <td>11</td>\n",
       "      <td>2016-06-22</td>\n",
       "      <td>2016-05-07</td>\n",
       "      <td>25</td>\n",
       "      <td>xxl</td>\n",
       "      <td>grey</td>\n",
       "      <td>5</td>\n",
       "      <td>79.9</td>\n",
       "      <td>30823</td>\n",
       "      <td>Mrs</td>\n",
       "      <td>...</td>\n",
       "      <td>1001</td>\n",
       "      <td>2015-03-15</td>\n",
       "      <td>0</td>\n",
       "      <td>2017-01-01</td>\n",
       "      <td>47.0</td>\n",
       "      <td>658</td>\n",
       "      <td>44.0</td>\n",
       "      <td>4.0</td>\n",
       "      <td>6</td>\n",
       "      <td>3.0</td>\n",
       "    </tr>\n",
       "    <tr>\n",
       "      <th>3</th>\n",
       "      <td>32</td>\n",
       "      <td>2016-06-23</td>\n",
       "      <td>2016-06-26</td>\n",
       "      <td>173</td>\n",
       "      <td>m</td>\n",
       "      <td>brown</td>\n",
       "      <td>20</td>\n",
       "      <td>19.9</td>\n",
       "      <td>17234</td>\n",
       "      <td>Mrs</td>\n",
       "      <td>...</td>\n",
       "      <td>1013</td>\n",
       "      <td>2015-02-17</td>\n",
       "      <td>0</td>\n",
       "      <td>2017-01-01</td>\n",
       "      <td>56.0</td>\n",
       "      <td>684</td>\n",
       "      <td>54.0</td>\n",
       "      <td>9.0</td>\n",
       "      <td>6</td>\n",
       "      <td>3.0</td>\n",
       "    </tr>\n",
       "    <tr>\n",
       "      <th>4</th>\n",
       "      <td>43</td>\n",
       "      <td>2016-06-23</td>\n",
       "      <td>2016-06-26</td>\n",
       "      <td>394</td>\n",
       "      <td>40</td>\n",
       "      <td>black</td>\n",
       "      <td>44</td>\n",
       "      <td>90.0</td>\n",
       "      <td>30827</td>\n",
       "      <td>Mrs</td>\n",
       "      <td>...</td>\n",
       "      <td>1006</td>\n",
       "      <td>2016-09-02</td>\n",
       "      <td>1</td>\n",
       "      <td>2017-01-01</td>\n",
       "      <td>NaN</td>\n",
       "      <td>121</td>\n",
       "      <td>NaN</td>\n",
       "      <td>NaN</td>\n",
       "      <td>6</td>\n",
       "      <td>2.5</td>\n",
       "    </tr>\n",
       "    <tr>\n",
       "      <th>...</th>\n",
       "      <td>...</td>\n",
       "      <td>...</td>\n",
       "      <td>...</td>\n",
       "      <td>...</td>\n",
       "      <td>...</td>\n",
       "      <td>...</td>\n",
       "      <td>...</td>\n",
       "      <td>...</td>\n",
       "      <td>...</td>\n",
       "      <td>...</td>\n",
       "      <td>...</td>\n",
       "      <td>...</td>\n",
       "      <td>...</td>\n",
       "      <td>...</td>\n",
       "      <td>...</td>\n",
       "      <td>...</td>\n",
       "      <td>...</td>\n",
       "      <td>...</td>\n",
       "      <td>...</td>\n",
       "      <td>...</td>\n",
       "      <td>...</td>\n",
       "    </tr>\n",
       "    <tr>\n",
       "      <th>79940</th>\n",
       "      <td>99942</td>\n",
       "      <td>2016-11-09</td>\n",
       "      <td>2016-12-09</td>\n",
       "      <td>39</td>\n",
       "      <td>41</td>\n",
       "      <td>blue</td>\n",
       "      <td>26</td>\n",
       "      <td>89.9</td>\n",
       "      <td>48232</td>\n",
       "      <td>Mrs</td>\n",
       "      <td>...</td>\n",
       "      <td>1007</td>\n",
       "      <td>2016-12-09</td>\n",
       "      <td>1</td>\n",
       "      <td>2017-01-01</td>\n",
       "      <td>75.0</td>\n",
       "      <td>23</td>\n",
       "      <td>75.0</td>\n",
       "      <td>10.0</td>\n",
       "      <td>11</td>\n",
       "      <td>4.0</td>\n",
       "    </tr>\n",
       "    <tr>\n",
       "      <th>79941</th>\n",
       "      <td>99954</td>\n",
       "      <td>2016-11-09</td>\n",
       "      <td>NaT</td>\n",
       "      <td>1498</td>\n",
       "      <td>42</td>\n",
       "      <td>green</td>\n",
       "      <td>6</td>\n",
       "      <td>59.9</td>\n",
       "      <td>48234</td>\n",
       "      <td>Mrs</td>\n",
       "      <td>...</td>\n",
       "      <td>1007</td>\n",
       "      <td>2016-12-09</td>\n",
       "      <td>0</td>\n",
       "      <td>2017-01-01</td>\n",
       "      <td>55.0</td>\n",
       "      <td>23</td>\n",
       "      <td>54.0</td>\n",
       "      <td>2.0</td>\n",
       "      <td>11</td>\n",
       "      <td>72.5</td>\n",
       "    </tr>\n",
       "    <tr>\n",
       "      <th>79942</th>\n",
       "      <td>99980</td>\n",
       "      <td>2016-11-09</td>\n",
       "      <td>2016-12-09</td>\n",
       "      <td>1806</td>\n",
       "      <td>unsized</td>\n",
       "      <td>brown</td>\n",
       "      <td>110</td>\n",
       "      <td>16.9</td>\n",
       "      <td>48240</td>\n",
       "      <td>Mr</td>\n",
       "      <td>...</td>\n",
       "      <td>1010</td>\n",
       "      <td>2015-02-17</td>\n",
       "      <td>0</td>\n",
       "      <td>2017-01-01</td>\n",
       "      <td>45.0</td>\n",
       "      <td>684</td>\n",
       "      <td>43.0</td>\n",
       "      <td>7.0</td>\n",
       "      <td>11</td>\n",
       "      <td>31.0</td>\n",
       "    </tr>\n",
       "    <tr>\n",
       "      <th>79943</th>\n",
       "      <td>99987</td>\n",
       "      <td>2016-11-09</td>\n",
       "      <td>2016-12-09</td>\n",
       "      <td>1530</td>\n",
       "      <td>l</td>\n",
       "      <td>black</td>\n",
       "      <td>56</td>\n",
       "      <td>79.9</td>\n",
       "      <td>12130</td>\n",
       "      <td>Mrs</td>\n",
       "      <td>...</td>\n",
       "      <td>1008</td>\n",
       "      <td>2016-01-20</td>\n",
       "      <td>0</td>\n",
       "      <td>2017-01-01</td>\n",
       "      <td>NaN</td>\n",
       "      <td>347</td>\n",
       "      <td>NaN</td>\n",
       "      <td>NaN</td>\n",
       "      <td>11</td>\n",
       "      <td>30.0</td>\n",
       "    </tr>\n",
       "    <tr>\n",
       "      <th>79944</th>\n",
       "      <td>99997</td>\n",
       "      <td>2016-11-09</td>\n",
       "      <td>2016-12-09</td>\n",
       "      <td>156</td>\n",
       "      <td>20</td>\n",
       "      <td>brown</td>\n",
       "      <td>34</td>\n",
       "      <td>29.9</td>\n",
       "      <td>713</td>\n",
       "      <td>Mrs</td>\n",
       "      <td>...</td>\n",
       "      <td>1011</td>\n",
       "      <td>2015-02-17</td>\n",
       "      <td>0</td>\n",
       "      <td>2017-01-01</td>\n",
       "      <td>58.0</td>\n",
       "      <td>684</td>\n",
       "      <td>55.0</td>\n",
       "      <td>3.0</td>\n",
       "      <td>11</td>\n",
       "      <td>7.0</td>\n",
       "    </tr>\n",
       "  </tbody>\n",
       "</table>\n",
       "<p>79945 rows × 21 columns</p>\n",
       "</div>"
      ],
      "text/plain": [
       "       order_item_id order_date delivery_date  item_id item_size item_color  \\\n",
       "0                  1 2016-06-22    2016-06-27      643        38       navy   \n",
       "1                 10 2016-06-22    2016-06-27      195       xxl       grey   \n",
       "2                 11 2016-06-22    2016-05-07       25       xxl       grey   \n",
       "3                 32 2016-06-23    2016-06-26      173         m      brown   \n",
       "4                 43 2016-06-23    2016-06-26      394        40      black   \n",
       "...              ...        ...           ...      ...       ...        ...   \n",
       "79940          99942 2016-11-09    2016-12-09       39        41       blue   \n",
       "79941          99954 2016-11-09           NaT     1498        42      green   \n",
       "79942          99980 2016-11-09    2016-12-09     1806   unsized      brown   \n",
       "79943          99987 2016-11-09    2016-12-09     1530         l      black   \n",
       "79944          99997 2016-11-09    2016-12-09      156        20      brown   \n",
       "\n",
       "       brand_id  item_price  user_id user_title  ... user_state  \\\n",
       "0            30        49.9    30822        Mrs  ...       1013   \n",
       "1            46        19.9    30823        Mrs  ...       1001   \n",
       "2             5        79.9    30823        Mrs  ...       1001   \n",
       "3            20        19.9    17234        Mrs  ...       1013   \n",
       "4            44        90.0    30827        Mrs  ...       1006   \n",
       "...         ...         ...      ...        ...  ...        ...   \n",
       "79940        26        89.9    48232        Mrs  ...       1007   \n",
       "79941         6        59.9    48234        Mrs  ...       1007   \n",
       "79942       110        16.9    48240         Mr  ...       1010   \n",
       "79943        56        79.9    12130        Mrs  ...       1008   \n",
       "79944        34        29.9      713        Mrs  ...       1011   \n",
       "\n",
       "       user_reg_date return  present_date age_of_user  age_on_network  \\\n",
       "0         2016-06-23      0    2017-01-01        48.0             192   \n",
       "1         2015-03-15      1    2017-01-01        47.0             658   \n",
       "2         2015-03-15      0    2017-01-01        47.0             658   \n",
       "3         2015-02-17      0    2017-01-01        56.0             684   \n",
       "4         2016-09-02      1    2017-01-01         NaN             121   \n",
       "...              ...    ...           ...         ...             ...   \n",
       "79940     2016-12-09      1    2017-01-01        75.0              23   \n",
       "79941     2016-12-09      0    2017-01-01        55.0              23   \n",
       "79942     2015-02-17      0    2017-01-01        45.0             684   \n",
       "79943     2016-01-20      0    2017-01-01         NaN             347   \n",
       "79944     2015-02-17      0    2017-01-01        58.0             684   \n",
       "\n",
       "       days_user_taken_to_get_register  user_month_of_birth  order_of_month  \\\n",
       "0                                 47.0                  4.0               6   \n",
       "1                                 44.0                  4.0               6   \n",
       "2                                 44.0                  4.0               6   \n",
       "3                                 54.0                  9.0               6   \n",
       "4                                  NaN                  NaN               6   \n",
       "...                                ...                  ...             ...   \n",
       "79940                             75.0                 10.0              11   \n",
       "79941                             54.0                  2.0              11   \n",
       "79942                             43.0                  7.0              11   \n",
       "79943                              NaN                  NaN              11   \n",
       "79944                             55.0                  3.0              11   \n",
       "\n",
       "       no_of_days_to_taken_to_deliver  \n",
       "0                                13.0  \n",
       "1                                 3.0  \n",
       "2                                 3.0  \n",
       "3                                 3.0  \n",
       "4                                 2.5  \n",
       "...                               ...  \n",
       "79940                             4.0  \n",
       "79941                            72.5  \n",
       "79942                            31.0  \n",
       "79943                            30.0  \n",
       "79944                             7.0  \n",
       "\n",
       "[79945 rows x 21 columns]"
      ]
     },
     "execution_count": 342,
     "metadata": {},
     "output_type": "execute_result"
    }
   ],
   "source": [
    "df_new"
   ]
  },
  {
   "cell_type": "code",
   "execution_count": 343,
   "metadata": {},
   "outputs": [
    {
     "data": {
      "text/plain": [
       "Index(['order_item_id', 'order_date', 'delivery_date', 'item_id', 'item_size',\n",
       "       'item_color', 'brand_id', 'item_price', 'user_id', 'user_title',\n",
       "       'user_dob', 'user_state', 'user_reg_date', 'return', 'present_date',\n",
       "       'age_of_user', 'age_on_network', 'days_user_taken_to_get_register',\n",
       "       'user_month_of_birth', 'order_of_month',\n",
       "       'no_of_days_to_taken_to_deliver'],\n",
       "      dtype='object')"
      ]
     },
     "execution_count": 343,
     "metadata": {},
     "output_type": "execute_result"
    }
   ],
   "source": [
    "df_new.columns"
   ]
  },
  {
   "cell_type": "code",
   "execution_count": 344,
   "metadata": {},
   "outputs": [],
   "source": [
    "df_final=df_new[['item_id', 'item_size',\n",
    "       'item_color', 'brand_id', 'item_price','user_title',\n",
    "       'user_state','age_of_user', 'age_on_network', 'days_user_taken_to_get_register','no_of_days_to_taken_to_deliver','user_month_of_birth','order_of_month','return']]"
   ]
  },
  {
   "cell_type": "code",
   "execution_count": 345,
   "metadata": {},
   "outputs": [],
   "source": [
    "df_cat=df_final.select_dtypes(include=['object'])\n",
    "df_num=df_final.select_dtypes(include=['int32','int64','float32','float64'])\n",
    "import pandas\n",
    "from sklearn import preprocessing \n",
    "le = preprocessing.LabelEncoder()\n",
    "df_cat=df_cat.apply(le.fit_transform)"
   ]
  },
  {
   "cell_type": "code",
   "execution_count": 346,
   "metadata": {},
   "outputs": [],
   "source": [
    "def outlier_capping(x):\n",
    "    x = x.clip(upper=x.quantile(0.99))\n",
    "    x = x.clip(lower=x.quantile(0.01))\n",
    "    return x\n",
    "df_num1=df_num.apply(lambda x: outlier_capping(x))"
   ]
  },
  {
   "cell_type": "code",
   "execution_count": 347,
   "metadata": {},
   "outputs": [],
   "source": [
    "df_final1=pd.concat([df_cat,df_num1],axis=1)"
   ]
  },
  {
   "cell_type": "code",
   "execution_count": 348,
   "metadata": {},
   "outputs": [],
   "source": [
    "df_final1.fillna(-99,axis=1,inplace=True)"
   ]
  },
  {
   "cell_type": "code",
   "execution_count": 349,
   "metadata": {},
   "outputs": [
    {
     "data": {
      "text/plain": [
       "(79945, 14)"
      ]
     },
     "execution_count": 349,
     "metadata": {},
     "output_type": "execute_result"
    }
   ],
   "source": [
    "df_final1.shape"
   ]
  },
  {
   "cell_type": "code",
   "execution_count": 350,
   "metadata": {},
   "outputs": [],
   "source": [
    "x=df_final1.iloc[:,0:13]\n",
    "from sklearn.preprocessing import MinMaxScaler\n",
    "scaler = MinMaxScaler()\n",
    "x1=scaler.fit_transform(x)\n",
    "y=df_final1['return']"
   ]
  },
  {
   "cell_type": "code",
   "execution_count": 351,
   "metadata": {},
   "outputs": [
    {
     "data": {
      "text/plain": [
       "Index(['item_size', 'item_color', 'user_title', 'item_id', 'brand_id',\n",
       "       'item_price', 'user_state', 'age_of_user', 'age_on_network',\n",
       "       'days_user_taken_to_get_register', 'no_of_days_to_taken_to_deliver',\n",
       "       'user_month_of_birth', 'order_of_month'],\n",
       "      dtype='object')"
      ]
     },
     "execution_count": 351,
     "metadata": {},
     "output_type": "execute_result"
    }
   ],
   "source": [
    "x.columns"
   ]
  },
  {
   "cell_type": "code",
   "execution_count": 352,
   "metadata": {},
   "outputs": [],
   "source": [
    "train_x,test_x,train_y,test_y = train_test_split(x1,y,test_size=.3,random_state=42,stratify=y)"
   ]
  },
  {
   "cell_type": "code",
   "execution_count": 353,
   "metadata": {},
   "outputs": [
    {
     "data": {
      "text/plain": [
       "0    43283\n",
       "1    36662\n",
       "Name: return, dtype: int64"
      ]
     },
     "execution_count": 353,
     "metadata": {},
     "output_type": "execute_result"
    }
   ],
   "source": [
    "y.value_counts()"
   ]
  },
  {
   "cell_type": "code",
   "execution_count": 382,
   "metadata": {},
   "outputs": [
    {
     "name": "stdout",
     "output_type": "stream",
     "text": [
      "[14:02:00] WARNING: C:/Users/Administrator/workspace/xgboost-win64_release_1.3.0/src/learner.cc:1061: Starting in XGBoost 1.3.0, the default evaluation metric used with the objective 'binary:logistic' was changed from 'error' to 'logloss'. Explicitly set eval_metric if you'd like to restore the old behavior.\n"
     ]
    },
    {
     "data": {
      "text/plain": [
       "(0.6812422937402834, 0.6127001334222815)"
      ]
     },
     "execution_count": 382,
     "metadata": {},
     "output_type": "execute_result"
    }
   ],
   "source": [
    "model = XGBClassifier(max_depth=6,n_estimators=50,random_state=42,scale_pos_weight=1.18,learning_rate=0.3)\n",
    "model.fit(train_x, train_y)\n",
    "model.score(train_x, train_y),model.score(test_x, test_y)"
   ]
  },
  {
   "cell_type": "code",
   "execution_count": 385,
   "metadata": {},
   "outputs": [
    {
     "name": "stdout",
     "output_type": "stream",
     "text": [
      "[14:02:20] WARNING: C:/Users/Administrator/workspace/xgboost-win64_release_1.3.0/src/learner.cc:1061: Starting in XGBoost 1.3.0, the default evaluation metric used with the objective 'binary:logistic' was changed from 'error' to 'logloss'. Explicitly set eval_metric if you'd like to restore the old behavior.\n"
     ]
    },
    {
     "data": {
      "text/plain": [
       "(0.6822429906542056, 0.6179119412941961)"
      ]
     },
     "execution_count": 385,
     "metadata": {},
     "output_type": "execute_result"
    }
   ],
   "source": [
    "model = XGBClassifier(max_depth=3,n_estimators=600,random_state=42,scale_pos_weight=1.18,learning_rate=0.3,reg_alpha=0.4,reg_lambda=0.9)\n",
    "model.fit(train_x, train_y)\n",
    "model.score(train_x, train_y),model.score(test_x, test_y)"
   ]
  },
  {
   "cell_type": "code",
   "execution_count": 386,
   "metadata": {},
   "outputs": [
    {
     "name": "stdout",
     "output_type": "stream",
     "text": [
      "              precision    recall  f1-score   support\n",
      "\n",
      "           0       0.66      0.60      0.63     12985\n",
      "           1       0.57      0.64      0.61     10999\n",
      "\n",
      "    accuracy                           0.62     23984\n",
      "   macro avg       0.62      0.62      0.62     23984\n",
      "weighted avg       0.62      0.62      0.62     23984\n",
      "\n"
     ]
    }
   ],
   "source": [
    "zz=model.predict(test_x)\n",
    "print(classification_report(test_y,zz))"
   ]
  },
  {
   "cell_type": "code",
   "execution_count": 374,
   "metadata": {},
   "outputs": [
    {
     "data": {
      "text/plain": [
       "Text(0.5, 0, 'Random Forest Feature Importance')"
      ]
     },
     "execution_count": 374,
     "metadata": {},
     "output_type": "execute_result"
    },
    {
     "data": {
      "image/png": "[encoded data removed]",
      "text/plain": [
       "<Figure size 432x288 with 1 Axes>"
      ]
     },
     "metadata": {
      "needs_background": "light"
     },
     "output_type": "display_data"
    }
   ],
   "source": [
    "from matplotlib import pyplot as plt\n",
    "clf = RandomForestClassifier()\n",
    "clf.fit(train_x,train_y)\n",
    "sorted_idx = clf.feature_importances_.argsort()\n",
    "plt.barh(x.columns[sorted_idx], clf.feature_importances_[sorted_idx])\n",
    "plt.xlabel(\"Random Forest Feature Importance\")"
   ]
  },
  {
   "cell_type": "code",
   "execution_count": 387,
   "metadata": {},
   "outputs": [
    {
     "data": {
      "text/html": [
       "<div>\n",
       "<style scoped>\n",
       "    .dataframe tbody tr th:only-of-type {\n",
       "        vertical-align: middle;\n",
       "    }\n",
       "\n",
       "    .dataframe tbody tr th {\n",
       "        vertical-align: top;\n",
       "    }\n",
       "\n",
       "    .dataframe thead th {\n",
       "        text-align: right;\n",
       "    }\n",
       "</style>\n",
       "<table border=\"1\" class=\"dataframe\">\n",
       "  <thead>\n",
       "    <tr style=\"text-align: right;\">\n",
       "      <th></th>\n",
       "      <th>0</th>\n",
       "      <th>1</th>\n",
       "    </tr>\n",
       "  </thead>\n",
       "  <tbody>\n",
       "    <tr>\n",
       "      <th>0</th>\n",
       "      <td>7739</td>\n",
       "      <td>5246</td>\n",
       "    </tr>\n",
       "    <tr>\n",
       "      <th>1</th>\n",
       "      <td>3918</td>\n",
       "      <td>7081</td>\n",
       "    </tr>\n",
       "  </tbody>\n",
       "</table>\n",
       "</div>"
      ],
      "text/plain": [
       "      0     1\n",
       "0  7739  5246\n",
       "1  3918  7081"
      ]
     },
     "execution_count": 387,
     "metadata": {},
     "output_type": "execute_result"
    }
   ],
   "source": [
    "from sklearn.metrics import confusion_matrix\n",
    "pd.DataFrame(confusion_matrix(test_y, zz))"
   ]
  },
  {
   "cell_type": "code",
   "execution_count": 380,
   "metadata": {},
   "outputs": [
    {
     "data": {
      "text/plain": [
       "['xg_boost.pkl']"
      ]
     },
     "execution_count": 380,
     "metadata": {},
     "output_type": "execute_result"
    }
   ],
   "source": [
    "import joblib\n",
    "joblib.dump(model, 'xg_boost.pkl')"
   ]
  },
  {
   "cell_type": "code",
   "execution_count": null,
   "metadata": {},
   "outputs": [],
   "source": []
  }
 ],
 "metadata": {
  "kernelspec": {
   "display_name": "Python 3",
   "language": "python",
   "name": "python3"
  },
  "language_info": {
   "codemirror_mode": {
    "name": "ipython",
    "version": 3
   },
   "file_extension": ".py",
   "mimetype": "text/x-python",
   "name": "python",
   "nbconvert_exporter": "python",
   "pygments_lexer": "ipython3",
   "version": "3.8.3"
  }
 },
 "nbformat": 4,
 "nbformat_minor": 4
}
